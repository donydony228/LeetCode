{
 "cells": [
  {
   "cell_type": "code",
   "execution_count": null,
   "metadata": {},
   "outputs": [],
   "source": [
    "from collections import deque\n",
    "\n",
    "class RecentCounter:\n",
    "\n",
    "    def __init__(self):\n",
    "        self.requests = deque()  # 使用雙端佇列來儲存請求時間\n",
    "        \n",
    "    def ping(self, t: int) -> int:\n",
    "        # 添加新請求\n",
    "        self.requests.append(t)\n",
    "        \n",
    "        # 移除所有不在時間範圍 [t-3000, t] 內的請求\n",
    "        while self.requests and self.requests[0] < t - 3000:\n",
    "            self.requests.popleft()\n",
    "            \n",
    "        # 返回時間範圍內的請求數量\n",
    "        return len(self.requests)"
   ]
  },
  {
   "cell_type": "code",
   "execution_count": null,
   "metadata": {},
   "outputs": [],
   "source": []
  }
 ],
 "metadata": {
  "language_info": {
   "name": "python"
  }
 },
 "nbformat": 4,
 "nbformat_minor": 2
}
