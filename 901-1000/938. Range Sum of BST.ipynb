{
 "cells": [
  {
   "cell_type": "code",
   "execution_count": null,
   "id": "647967a4",
   "metadata": {},
   "outputs": [],
   "source": [
    "# Definition for a binary tree node.\n",
    "# class TreeNode:\n",
    "#     def __init__(self, val=0, left=None, right=None):\n",
    "#         self.val = val\n",
    "#         self.left = left\n",
    "#         self.right = right\n",
    "class Solution:\n",
    "    def rangeSumBST(self, root: Optional[TreeNode], low: int, high: int) -> int:\n",
    "        def inorder(node, arr):\n",
    "            if not node:\n",
    "                return None\n",
    "                \n",
    "            inorder(node.left, arr)\n",
    "            arr.append(node.val)\n",
    "            inorder(node.right, arr)\n",
    "        \n",
    "        values = []\n",
    "        inorder(root, values)\n",
    "        total = 0\n",
    "        for i in values:\n",
    "            if i <= high and i >= low:\n",
    "                total += i\n",
    "        \n",
    "        return total"
   ]
  },
  {
   "cell_type": "code",
   "execution_count": null,
   "id": "6e7e215b",
   "metadata": {},
   "outputs": [],
   "source": [
    "# Definition for a binary tree node.\n",
    "# class TreeNode:\n",
    "#     def __init__(self, val=0, left=None, right=None):\n",
    "#         self.val = val\n",
    "#         self.left = left\n",
    "#         self.right = right\n",
    "class Solution:\n",
    "    def rangeSumBST(self, root: Optional[TreeNode], low: int, high: int) -> int:\n",
    "        if not root:\n",
    "            return 0\n",
    "        \n",
    "        if root.val < low:\n",
    "            return self.rangeSumBST(root.right, low, high)\n",
    "        if root.val > high:\n",
    "            return self.rangeSumBST(root.left, low, high)\n",
    "        \n",
    "        return root.val + self.rangeSumBST(root.left, low, high) + self.rangeSumBST(root.right, low, high)"
   ]
  }
 ],
 "metadata": {
  "language_info": {
   "name": "python"
  }
 },
 "nbformat": 4,
 "nbformat_minor": 5
}
