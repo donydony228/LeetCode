{
 "cells": [
  {
   "cell_type": "code",
   "execution_count": null,
   "id": "488c862e",
   "metadata": {},
   "outputs": [],
   "source": [
    "class Solution:\n",
    "    def makeGood(self, s: str) -> str:\n",
    "        stack = []\n",
    "\n",
    "        for i in s:\n",
    "            if stack and stack[-1].isupper() != i.isupper() and stack[-1].lower() == i.lower():\n",
    "                stack.pop()\n",
    "            else:\n",
    "                stack.append(i)\n",
    "        return \"\".join(stack)"
   ]
  }
 ],
 "metadata": {
  "language_info": {
   "name": "python"
  }
 },
 "nbformat": 4,
 "nbformat_minor": 5
}
