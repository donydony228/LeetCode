{
 "cells": [
  {
   "cell_type": "code",
   "execution_count": null,
   "metadata": {},
   "outputs": [],
   "source": [
    "# 自己的解法\n",
    "class Solution:\n",
    "    def kidsWithCandies(self, candies: List[int], extraCandies: int) -> List[bool]:\n",
    "        \n",
    "        result = []\n",
    "\n",
    "        maximum = max(candies)\n",
    "        min_true = maximum - extraCandies\n",
    "\n",
    "        for i in range(len(candies)):\n",
    "            if candies[i] >= min_true:\n",
    "                result.append(True)\n",
    "            else:\n",
    "                result.append(False)\n",
    "\n",
    "        return result"
   ]
  },
  {
   "cell_type": "code",
   "execution_count": null,
   "metadata": {},
   "outputs": [],
   "source": [
    "# 优化解法\n",
    "class Solution:\n",
    "    def kidsWithCandies(self, candies: List[int], extraCandies: int) -> List[bool]:\n",
    "        maximum = max(candies)\n",
    "        return [candy + extraCandies >= maximum for candy in candies]"
   ]
  }
 ],
 "metadata": {
  "language_info": {
   "name": "python"
  }
 },
 "nbformat": 4,
 "nbformat_minor": 2
}
