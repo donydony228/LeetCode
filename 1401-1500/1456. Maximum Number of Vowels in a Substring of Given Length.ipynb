{
 "cells": [
  {
   "cell_type": "code",
   "execution_count": null,
   "id": "857f44e4",
   "metadata": {},
   "outputs": [],
   "source": [
    "class Solution:\n",
    "    def maxVowels(self, s: str, k: int) -> int:\n",
    "        vowel = [\"a\", \"e\", \"i\", \"o\", \"u\"]\n",
    "        total = 0\n",
    "        begin = 0\n",
    "        end = k\n",
    "        # print(len(s))\n",
    "        while end < len(s)+1 and total < k:\n",
    "            temp_total = 0\n",
    "            temp = s[begin:end]\n",
    "            a = Counter(temp)\n",
    "\n",
    "            for i in a.keys():\n",
    "                if i in vowel:\n",
    "                    temp_total += a[i]\n",
    "            total = temp_total if temp_total > total else total\n",
    "            begin += 1\n",
    "            end += 1\n",
    "        return total"
   ]
  },
  {
   "cell_type": "code",
   "execution_count": null,
   "id": "00a9b652",
   "metadata": {},
   "outputs": [],
   "source": [
    "class Solution:\n",
    "    def maxVowels(self, s: str, k: int) -> int:\n",
    "        vowel = [\"a\", \"e\", \"i\", \"o\", \"u\"]\n",
    "        max_vowels=0\n",
    "        curr_vowels=0\n",
    "        left=0\n",
    "        for i in range(k):\n",
    "            if s[i] in vowel:\n",
    "                curr_vowels += 1\n",
    "        max_vowels = max(max_vowels, curr_vowels)\n",
    "        \n",
    "        for i in range(k, len(s)):\n",
    "            if s[left] in vowel:\n",
    "                curr_vowels-=1\n",
    "                left+=1\n",
    "            else:\n",
    "                left+=1\n",
    "            if s[i] in vowel:\n",
    "                curr_vowels+=1\n",
    "            max_vowels=max(max_vowels,curr_vowels)\n",
    "\n",
    "        return max_vowels"
   ]
  }
 ],
 "metadata": {
  "language_info": {
   "name": "python"
  }
 },
 "nbformat": 4,
 "nbformat_minor": 5
}
