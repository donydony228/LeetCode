{
 "cells": [
  {
   "cell_type": "code",
   "execution_count": null,
   "id": "993e5cf3",
   "metadata": {},
   "outputs": [],
   "source": [
    "class Solution:\n",
    "    def finalPrices(self, prices: List[int]) -> List[int]:\n",
    "        result = []\n",
    "        for i in range(len(prices)-1):\n",
    "            # print(f\"i:{prices[i]}\")\n",
    "            mini = min(prices[i+1:])\n",
    "            if mini:\n",
    "                if mini <= prices[i]:\n",
    "                    for j in prices[i+1:]:\n",
    "                        if j <= prices[i]:\n",
    "                            result.append(prices[i]-j)\n",
    "                            break\n",
    "                else:\n",
    "                    # print(2)\n",
    "                    result.append(prices[i])\n",
    "            # print(f\"result:{result}\")\n",
    "        result.append(prices[-1])\n",
    "        return result"
   ]
  }
 ],
 "metadata": {
  "language_info": {
   "name": "python"
  }
 },
 "nbformat": 4,
 "nbformat_minor": 5
}
