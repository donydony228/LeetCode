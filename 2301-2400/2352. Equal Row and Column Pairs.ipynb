{
 "cells": [
  {
   "cell_type": "code",
   "execution_count": null,
   "id": "1f0f7177",
   "metadata": {},
   "outputs": [],
   "source": [
    "class Solution:\n",
    "    def equalPairs(self, grid: List[List[int]]) -> int:\n",
    "        n = len(grid)\n",
    "        count = 0\n",
    "        column = []\n",
    "\n",
    "        for i in range(n):\n",
    "            column.append([])\n",
    "            for j in range(n):\n",
    "                column[i].append(grid[j][i])\n",
    "        \n",
    "        for i in grid:\n",
    "            for j in column:\n",
    "                if i == j:\n",
    "                    count += 1\n",
    "        \n",
    "        return count"
   ]
  },
  {
   "cell_type": "code",
   "execution_count": null,
   "id": "dc8642c1",
   "metadata": {},
   "outputs": [],
   "source": []
  }
 ],
 "metadata": {
  "language_info": {
   "name": "python"
  }
 },
 "nbformat": 4,
 "nbformat_minor": 5
}
