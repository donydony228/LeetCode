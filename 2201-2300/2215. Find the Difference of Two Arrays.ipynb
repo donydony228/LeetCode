{
 "cells": [
  {
   "cell_type": "code",
   "execution_count": null,
   "id": "7a0b15a7",
   "metadata": {},
   "outputs": [],
   "source": [
    "class Solution:\n",
    "    def findDifference(self, nums1: List[int], nums2: List[int]) -> List[List[int]]:\n",
    "        answer = []\n",
    "        one = []\n",
    "        two = []\n",
    "\n",
    "        for i in nums1:\n",
    "            if i not in nums2:\n",
    "                one.append(i)\n",
    "        for j in nums2:\n",
    "            if j not in nums1:\n",
    "                two.append(j)\n",
    "        answer.append(list(set(one)))\n",
    "        answer.append(list(set(two)))\n",
    "        return answer"
   ]
  },
  {
   "cell_type": "code",
   "execution_count": null,
   "id": "30d1b543",
   "metadata": {},
   "outputs": [],
   "source": [
    "class Solution:\n",
    "    def findDifference(self, nums1: List[int], nums2: List[int]) -> List[List[int]]:\n",
    "        answer = [[],[]]\n",
    "        nums1 , nums2 = set(nums1), set(nums2) \n",
    "        for i in nums1:\n",
    "            if i not in nums2:\n",
    "                answer[0].append(i)\n",
    "        for j in nums2:\n",
    "            if j not in nums1:\n",
    "                answer[1].append(j)\n",
    "      \n",
    "        return answer"
   ]
  }
 ],
 "metadata": {
  "language_info": {
   "name": "python"
  }
 },
 "nbformat": 4,
 "nbformat_minor": 5
}
