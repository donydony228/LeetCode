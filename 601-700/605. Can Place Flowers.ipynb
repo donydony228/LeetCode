{
 "cells": [
  {
   "cell_type": "code",
   "execution_count": null,
   "metadata": {},
   "outputs": [],
   "source": [
    "class Solution:\n",
    "    def canPlaceFlowers(self, flowerbed: List[int], n: int) -> bool:\n",
    "        count = 0\n",
    "        size = len(flowerbed)\n",
    "        \n",
    "        for i in range(size):\n",
    "            if flowerbed[i] == 0:\n",
    "                # 檢查左右是否為空\n",
    "                empty_left = (i == 0) or (flowerbed[i-1] == 0)\n",
    "                empty_right = (i == size-1) or (flowerbed[i+1] == 0)\n",
    "                \n",
    "                if empty_left and empty_right:\n",
    "                    flowerbed[i] = 1\n",
    "                    count += 1\n",
    "        \n",
    "        return count >= n"
   ]
  }
 ],
 "metadata": {
  "language_info": {
   "name": "python"
  }
 },
 "nbformat": 4,
 "nbformat_minor": 2
}
