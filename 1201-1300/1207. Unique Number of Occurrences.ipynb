{
 "cells": [
  {
   "cell_type": "code",
   "execution_count": null,
   "id": "e0a60164",
   "metadata": {},
   "outputs": [],
   "source": [
    "class Solution:\n",
    "    def uniqueOccurrences(self, arr: List[int]) -> bool:\n",
    "        occur = {}\n",
    "\n",
    "        for i in arr:\n",
    "            if i not in occur.keys():\n",
    "                occur[i] = 1\n",
    "            else:\n",
    "                occur[i] += 1\n",
    "        \n",
    "        return len(occur.values()) == len(set(occur.values()))"
   ]
  },
  {
   "cell_type": "code",
   "execution_count": null,
   "id": "a7161f19",
   "metadata": {},
   "outputs": [],
   "source": []
  }
 ],
 "metadata": {
  "language_info": {
   "name": "python"
  }
 },
 "nbformat": 4,
 "nbformat_minor": 5
}
