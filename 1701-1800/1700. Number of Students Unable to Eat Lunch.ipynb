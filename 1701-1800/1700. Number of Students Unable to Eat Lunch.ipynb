{
 "cells": [
  {
   "cell_type": "code",
   "execution_count": null,
   "metadata": {},
   "outputs": [],
   "source": [
    "from collections import deque\n",
    "\n",
    "class Solution:\n",
    "    def countStudents(self, students: List[int], sandwiches: List[int]) -> int:\n",
    "        # 將學生和三明治轉換為佇列\n",
    "        students = deque(students)\n",
    "        sandwiches = deque(sandwiches)\n",
    "        \n",
    "        # 記錄連續循環的次數\n",
    "        consecutive_passes = 0\n",
    "        \n",
    "        # 當還有學生且沒有完整循環一遍都無法拿取三明治時\n",
    "        while students and consecutive_passes < len(students):\n",
    "            # 如果當前學生喜歡頂部的三明治\n",
    "            if students[0] == sandwiches[0]:\n",
    "                # 學生拿走三明治並離開\n",
    "                students.popleft()\n",
    "                sandwiches.popleft()\n",
    "                # 重設連續循環計數\n",
    "                consecutive_passes = 0\n",
    "            else:\n",
    "                # 學生移到隊列尾部\n",
    "                students.append(students.popleft())\n",
    "                consecutive_passes += 1\n",
    "        \n",
    "        # 返回剩餘的學生數量\n",
    "        return len(students)"
   ]
  }
 ],
 "metadata": {
  "language_info": {
   "name": "python"
  }
 },
 "nbformat": 4,
 "nbformat_minor": 2
}
