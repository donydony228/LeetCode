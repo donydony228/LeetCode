{
 "cells": [
  {
   "cell_type": "code",
   "execution_count": null,
   "metadata": {},
   "outputs": [],
   "source": [
    "# 自己寫的解法\n",
    "class Solution:\n",
    "    def mergeAlternately(self, word1: str, word2: str) -> str:\n",
    "        dummy = []\n",
    "        one = list(word1)\n",
    "        two = list(word2)\n",
    "        while one and two:\n",
    "            dummy.append(one.pop(0))\n",
    "            dummy.append(two.pop(0))\n",
    "\n",
    "        if len(one) == 0:\n",
    "            dummy.extend(two) \n",
    "        else:\n",
    "            dummy.extend(one)\n",
    "\n",
    "        final = \"\".join(dummy)\n",
    "        return  final"
   ]
  },
  {
   "cell_type": "code",
   "execution_count": null,
   "metadata": {},
   "outputs": [],
   "source": [
    "#　Claude 的解法\n",
    "# 方法3：雙指標優化版本\n",
    "def method3(word1, word2):\n",
    "    result = []\n",
    "    i, j = 0, 0\n",
    "    \n",
    "    while i < len(word1) and j < len(word2):\n",
    "        result.append(word1[i])\n",
    "        result.append(word2[j])\n",
    "        i += 1\n",
    "        j += 1\n",
    "    \n",
    "    # 追加剩餘字元\n",
    "    result.extend(word1[i:])\n",
    "    result.extend(word2[j:])\n",
    "    \n",
    "    return ''.join(result)"
   ]
  }
 ],
 "metadata": {
  "kernelspec": {
   "display_name": "Python 3",
   "language": "python",
   "name": "python3"
  },
  "language_info": {
   "codemirror_mode": {
    "name": "ipython",
    "version": 3
   },
   "file_extension": ".py",
   "mimetype": "text/x-python",
   "name": "python",
   "nbconvert_exporter": "python",
   "pygments_lexer": "ipython3",
   "version": "3.10.11"
  }
 },
 "nbformat": 4,
 "nbformat_minor": 2
}
