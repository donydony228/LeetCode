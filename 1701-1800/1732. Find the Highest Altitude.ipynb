{
 "cells": [
  {
   "cell_type": "code",
   "execution_count": null,
   "id": "bc2d3f8c",
   "metadata": {},
   "outputs": [],
   "source": [
    "class Solution:\n",
    "    def largestAltitude(self, gain: List[int]) -> int:\n",
    "        actual_height = [0]\n",
    "        for i in range(len(gain)):\n",
    "            actual_height.append(actual_height[i] + gain[i])\n",
    "        \n",
    "        return max(actual_height)"
   ]
  },
  {
   "cell_type": "code",
   "execution_count": null,
   "id": "af2bcd0c",
   "metadata": {},
   "outputs": [],
   "source": [
    "def largestAltitude(self, gain: List[int]) -> int:\n",
    "    current_height = 0\n",
    "    max_height = 0\n",
    "    \n",
    "    for change in gain:\n",
    "        current_height += change\n",
    "        max_height = max(max_height, current_height)\n",
    "    \n",
    "    return max_height"
   ]
  }
 ],
 "metadata": {
  "language_info": {
   "name": "python"
  }
 },
 "nbformat": 4,
 "nbformat_minor": 5
}
