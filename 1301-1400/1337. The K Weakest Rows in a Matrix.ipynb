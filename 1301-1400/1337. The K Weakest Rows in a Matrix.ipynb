{
 "cells": [
  {
   "cell_type": "code",
   "execution_count": null,
   "metadata": {},
   "outputs": [],
   "source": [
    "class Solution:\n",
    "    def kWeakestRows(self, mat: List[List[int]], k: int) -> List[int]:\n",
    "        soldiers = [(sum(s), i) for i, s in enumerate(mat)]\n",
    "\n",
    "        soldiers.sort(reverse=False, key=lambda x: x[0])\n",
    "\n",
    "        return [soldiers[i][1] for i in range(k)]"
   ]
  }
 ],
 "metadata": {
  "language_info": {
   "name": "python"
  }
 },
 "nbformat": 4,
 "nbformat_minor": 2
}
