{
 "cells": [
  {
   "cell_type": "code",
   "execution_count": null,
   "id": "5a621b13",
   "metadata": {},
   "outputs": [],
   "source": [
    "# Definition for a binary tree node.\n",
    "# class TreeNode:\n",
    "#     def __init__(self, val=0, left=None, right=None):\n",
    "#         self.val = val\n",
    "#         self.left = left\n",
    "#         self.right = right\n",
    "class Solution:\n",
    "    def diameterOfBinaryTree(self, root: Optional[TreeNode]) -> int:\n",
    "        # 初始化最大直徑\n",
    "        self.max_diameter = 0\n",
    "        \n",
    "        # 定義計算深度的遞迴函數\n",
    "        def depth(node):\n",
    "            if not node:\n",
    "                return 0\n",
    "            \n",
    "            # 計算左右子樹的深度\n",
    "            left_depth = depth(node.left)\n",
    "            right_depth = depth(node.right)\n",
    "            \n",
    "            # 更新最大直徑（左子樹深度 + 右子樹深度）\n",
    "            self.max_diameter = max(self.max_diameter, left_depth + right_depth)\n",
    "            \n",
    "            # 返回該節點的最大深度\n",
    "            return max(left_depth, right_depth) + 1\n",
    "        \n",
    "        # 呼叫深度函數\n",
    "        depth(root)\n",
    "        \n",
    "        # 返回最大直徑\n",
    "        return self.max_diameter"
   ]
  }
 ],
 "metadata": {
  "language_info": {
   "name": "python"
  }
 },
 "nbformat": 4,
 "nbformat_minor": 5
}
