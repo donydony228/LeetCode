{
 "cells": [
  {
   "cell_type": "code",
   "execution_count": 1,
   "metadata": {},
   "outputs": [],
   "source": [
    "score = [5,2,3,4,1]"
   ]
  },
  {
   "cell_type": "code",
   "execution_count": 18,
   "metadata": {},
   "outputs": [],
   "source": [
    "def findRelativeRanks(score):\n",
    "    # 創建一個包含分數和原始索引的列表\n",
    "    score_with_index = [(s, i) for i, s in enumerate(score)]\n",
    "    print(score_with_index)\n",
    "    \n",
    "    # 根據分數降序排序\n",
    "    score_with_index.sort(reverse=True, key=lambda x: x[0])\n",
    "    \n",
    "    print(score_with_index)\n",
    "    # 創建結果數組，長度為 n\n",
    "    result = [\"\"] * len(score)\n",
    "    \n",
    "    # 為每位運動員分配排名\n",
    "    for rank, (_, index) in enumerate(score_with_index):\n",
    "        if rank == 0:\n",
    "            result[index] = \"Gold Medal\"\n",
    "        elif rank == 1:\n",
    "            result[index] = \"Silver Medal\"\n",
    "        elif rank == 2:\n",
    "            result[index] = \"Bronze Medal\"\n",
    "        else:\n",
    "            result[index] = str(rank + 1)\n",
    "\n",
    "    return result"
   ]
  },
  {
   "cell_type": "code",
   "execution_count": 19,
   "metadata": {},
   "outputs": [
    {
     "name": "stdout",
     "output_type": "stream",
     "text": [
      "[(5, 0), (2, 1), (3, 2), (4, 3), (1, 4)]\n",
      "[(5, 0), (4, 3), (3, 2), (2, 1), (1, 4)]\n"
     ]
    },
    {
     "data": {
      "text/plain": [
       "['Gold Medal', '4', 'Bronze Medal', 'Silver Medal', '5']"
      ]
     },
     "execution_count": 19,
     "metadata": {},
     "output_type": "execute_result"
    }
   ],
   "source": [
    "findRelativeRanks(score)"
   ]
  }
 ],
 "metadata": {
  "kernelspec": {
   "display_name": "Python 3",
   "language": "python",
   "name": "python3"
  },
  "language_info": {
   "codemirror_mode": {
    "name": "ipython",
    "version": 3
   },
   "file_extension": ".py",
   "mimetype": "text/x-python",
   "name": "python",
   "nbconvert_exporter": "python",
   "pygments_lexer": "ipython3",
   "version": "3.10.11"
  }
 },
 "nbformat": 4,
 "nbformat_minor": 2
}
