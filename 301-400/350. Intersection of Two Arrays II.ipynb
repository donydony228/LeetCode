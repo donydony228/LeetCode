{
 "cells": [
  {
   "cell_type": "code",
   "execution_count": null,
   "metadata": {},
   "outputs": [],
   "source": [
    "class Solution:\n",
    "    def intersect(self, nums1: List[int], nums2: List[int]) -> List[int]:\n",
    "        # 計算每個列表中元素的出現次數\n",
    "        counter1 = Counter(nums1)\n",
    "        counter2 = Counter(nums2)\n",
    "        \n",
    "        # 取兩個 Counter 的交集，保留出現次數較少的值\n",
    "        intersection_counter = counter1 & counter2\n",
    "        \n",
    "        # 展開 Counter 為列表\n",
    "        result = []\n",
    "        for item, count in intersection_counter.items():\n",
    "            result.extend([item] * count)\n",
    "        \n",
    "        return result"
   ]
  }
 ],
 "metadata": {
  "language_info": {
   "name": "python"
  }
 },
 "nbformat": 4,
 "nbformat_minor": 2
}
