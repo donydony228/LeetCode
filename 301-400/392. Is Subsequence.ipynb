{
 "cells": [
  {
   "cell_type": "code",
   "execution_count": null,
   "metadata": {},
   "outputs": [],
   "source": [
    "# 我的寫法\n",
    "class Solution:\n",
    "    def isSubsequence(self, s: str, t: str) -> bool:\n",
    "        \n",
    "        if len(s) == 0:\n",
    "            return True\n",
    "\n",
    "        slow = 0\n",
    "\n",
    "        for fast in range(len(t)):\n",
    "            try:\n",
    "                if t[fast] == s[slow]:\n",
    "                    fast += 1\n",
    "                    slow += 1\n",
    "                else:\n",
    "                    fast += 1\n",
    "            except:\n",
    "                return (slow == (len(s)))\n",
    "        \n",
    "        return (slow == (len(s)))"
   ]
  },
  {
   "cell_type": "code",
   "execution_count": null,
   "metadata": {},
   "outputs": [],
   "source": [
    "# 簡潔寫法，但一樣是用雙指針\n",
    "class Solution:\n",
    "    def isSubsequence(self, s: str, t: str) -> bool:\n",
    "        i = j = 0\n",
    "        while i < len(s) and j < len(t):\n",
    "            if s[i] == t[j]:\n",
    "                i += 1\n",
    "            j += 1\n",
    "        return i == len(s)"
   ]
  }
 ],
 "metadata": {
  "language_info": {
   "name": "python"
  }
 },
 "nbformat": 4,
 "nbformat_minor": 2
}
