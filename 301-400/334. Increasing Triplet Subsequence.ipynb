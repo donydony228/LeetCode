{
 "cells": [
  {
   "cell_type": "code",
   "execution_count": null,
   "id": "7247d20e",
   "metadata": {},
   "outputs": [],
   "source": [
    "class Solution:\n",
    "    def increasingTriplet(self, nums: List[int]) -> bool:\n",
    "        max_one = max(nums)\n",
    "        if len(set(nums)) >=3:\n",
    "            for i in range(len(nums)):\n",
    "                for j in range(i, len(nums)):\n",
    "                    if nums[i] < nums[j] and nums[j] < max_one:\n",
    "                        for k in range(j, len(nums)):\n",
    "                            if nums[j] < nums[k]:\n",
    "                                return True\n",
    "\n",
    "        return False"
   ]
  },
  {
   "cell_type": "code",
   "execution_count": null,
   "id": "0180c4d4",
   "metadata": {},
   "outputs": [],
   "source": [
    "class Solution:\n",
    "    def increasingTriplet(self, nums: List[int]) -> bool:\n",
    "        first = float('inf')   # 目前見過的最小數\n",
    "        second = float('inf')  # 目前見過的次小數（且在first之後）\n",
    "        \n",
    "        for num in nums:\n",
    "            if num <= first:\n",
    "                # 找到更小的數，更新first\n",
    "                first = num\n",
    "            elif num <= second:\n",
    "                # 找到比first大但比second小的數，更新second\n",
    "                second = num\n",
    "            else:\n",
    "                # 找到比second還大的數，形成遞增三元組\n",
    "                return True\n",
    "        \n",
    "        return False"
   ]
  }
 ],
 "metadata": {
  "language_info": {
   "name": "python"
  }
 },
 "nbformat": 4,
 "nbformat_minor": 5
}
