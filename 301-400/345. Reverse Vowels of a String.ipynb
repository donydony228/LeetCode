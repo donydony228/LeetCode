{
 "cells": [
  {
   "cell_type": "code",
   "execution_count": null,
   "metadata": {},
   "outputs": [],
   "source": [
    "class Solution:\n",
    "    def reverseVowels(self, s: str) -> str:\n",
    "        str_list = list(s)\n",
    "        vowels = [\"a\", \"e\", \"i\", \"o\", \"u\"]\n",
    "        dummy = []\n",
    "        index_list = []\n",
    "\n",
    "        for index, char in enumerate(s):\n",
    "            if char.lower() in vowels:\n",
    "                dummy.append(char)\n",
    "                index_list.append(index)\n",
    "\n",
    "        for i in range(len(dummy)):\n",
    "            str_list[index_list[i]] = dummy[len(dummy) - i - 1]\n",
    "        return \"\".join(str_list)"
   ]
  },
  {
   "cell_type": "code",
   "execution_count": null,
   "metadata": {},
   "outputs": [
    {
     "data": {
      "text/plain": [
       "'A'"
      ]
     },
     "execution_count": 32,
     "metadata": {},
     "output_type": "execute_result"
    }
   ],
   "source": [
    "class Solution:\n",
    "    def reverseVowels(self, s: str) -> str:\n",
    "        vowels = set('aeiouAEIOU')\n",
    "        s_list = list(s)\n",
    "        left, right = 0, len(s) - 1\n",
    "        \n",
    "        while left < right:\n",
    "            # 從左邊找元音\n",
    "            while left < right and s_list[left].lower() not in vowels:\n",
    "                left += 1\n",
    "            \n",
    "            # 從右邊找元音\n",
    "            while left < right and s_list[right].lower() not in vowels:\n",
    "                right -= 1\n",
    "            \n",
    "            # 交換元音\n",
    "            if left < right:\n",
    "                s_list[left], s_list[right] = s_list[right], s_list[left]\n",
    "                left += 1\n",
    "                right -= 1\n",
    "        \n",
    "        return ''.join(s_list)"
   ]
  }
 ],
 "metadata": {
  "kernelspec": {
   "display_name": "Python 3",
   "language": "python",
   "name": "python3"
  },
  "language_info": {
   "codemirror_mode": {
    "name": "ipython",
    "version": 3
   },
   "file_extension": ".py",
   "mimetype": "text/x-python",
   "name": "python",
   "nbconvert_exporter": "python",
   "pygments_lexer": "ipython3",
   "version": "3.10.11"
  }
 },
 "nbformat": 4,
 "nbformat_minor": 2
}
