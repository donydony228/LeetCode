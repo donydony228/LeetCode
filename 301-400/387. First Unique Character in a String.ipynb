{
 "cells": [
  {
   "cell_type": "code",
   "execution_count": 1,
   "metadata": {},
   "outputs": [],
   "source": [
    "class Solution:\n",
    "    def firstUniqChar(self, s: str) -> int:\n",
    "        # 用於追蹤字元出現次數的字典\n",
    "        char_count = {}\n",
    "        # 用於維護字元出現順序的佇列\n",
    "        char_queue = []\n",
    "        \n",
    "        # 第一次遍歷：計算字元出現次數並維護佇列\n",
    "        for char in s:\n",
    "            # 更新字元計數\n",
    "            char_count[char] = char_count.get(char, 0) + 1\n",
    "            \n",
    "            # 如果字元是第一次出現，加入佇列\n",
    "            if char_count[char] == 1:\n",
    "                char_queue.append(char)\n",
    "        \n",
    "        # 第二次遍歷：找出第一個唯一字元\n",
    "        for char in char_queue:\n",
    "            # 如果這個字元在原字串中只出現一次\n",
    "            if char_count[char] == 1:\n",
    "                return s.index(char)\n",
    "        \n",
    "        # 沒有找到唯一字元\n",
    "        return -1"
   ]
  }
 ],
 "metadata": {
  "kernelspec": {
   "display_name": "Python 3",
   "language": "python",
   "name": "python3"
  },
  "language_info": {
   "codemirror_mode": {
    "name": "ipython",
    "version": 3
   },
   "file_extension": ".py",
   "mimetype": "text/x-python",
   "name": "python",
   "nbconvert_exporter": "python",
   "pygments_lexer": "ipython3",
   "version": "3.10.11"
  }
 },
 "nbformat": 4,
 "nbformat_minor": 2
}
