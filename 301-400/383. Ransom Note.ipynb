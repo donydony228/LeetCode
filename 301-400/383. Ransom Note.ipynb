{
 "cells": [
  {
   "cell_type": "code",
   "execution_count": null,
   "id": "761b6194",
   "metadata": {},
   "outputs": [],
   "source": [
    "class Solution:\n",
    "    def canConstruct(self, ransomNote: str, magazine: str) -> bool:\n",
    "        r = Counter(ransomNote)\n",
    "        m = Counter(magazine)\n",
    "\n",
    "        for i in r.keys():\n",
    "            if i not in m.keys() or r[i] > m[i]:\n",
    "                return False\n",
    "        return True"
   ]
  }
 ],
 "metadata": {
  "language_info": {
   "name": "python"
  }
 },
 "nbformat": 4,
 "nbformat_minor": 5
}
