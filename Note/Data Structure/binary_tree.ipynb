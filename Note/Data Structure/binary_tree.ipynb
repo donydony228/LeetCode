{
 "cells": [
  {
   "cell_type": "code",
   "execution_count": null,
   "id": "2d81edc1",
   "metadata": {},
   "outputs": [],
   "source": [
    "class TreeNode:\n",
    "    def __init__(self):\n",
    "        self.leftchild = None    # 指向左子節點的引用\n",
    "        self.rightchild = None   # 指向右子節點的引用\n",
    "        self.parent = None       # 指向父節點的引用\n",
    "        self.data1 = 0           # 整數型資料\n",
    "        self.data2 = 0.0         # 浮點數型資料\n",
    "        # 可以加入更多資料欄位...\n",
    "\n",
    "class Tree:\n",
    "    def __init__(self):\n",
    "        self.root = None         # 以root作為存取整棵樹的起點"
   ]
  }
 ],
 "metadata": {
  "language_info": {
   "name": "python"
  }
 },
 "nbformat": 4,
 "nbformat_minor": 5
}
