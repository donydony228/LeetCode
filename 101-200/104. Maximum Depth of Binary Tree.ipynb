{
 "cells": [
  {
   "cell_type": "code",
   "execution_count": null,
   "id": "f01e906c",
   "metadata": {},
   "outputs": [],
   "source": [
    "# Definition for a binary tree node.\n",
    "# class TreeNode:\n",
    "#     def __init__(self, val=0, left=None, right=None):\n",
    "#         self.val = val\n",
    "#         self.left = left\n",
    "#         self.right = right\n",
    "class Solution:\n",
    "    def maxDepth(self, root: Optional[TreeNode]) -> int:\n",
    "        # 基本情況：如果節點為空，深度為0\n",
    "        if not root:\n",
    "            return 0\n",
    "        \n",
    "        # 遞迴計算左子樹和右子樹的深度\n",
    "        left_depth = self.maxDepth(root.left)\n",
    "        right_depth = self.maxDepth(root.right)\n",
    "        \n",
    "        # 取左右子樹深度的較大值，再加上當前節點（+1）\n",
    "        return max(left_depth, right_depth) + 1"
   ]
  }
 ],
 "metadata": {
  "language_info": {
   "name": "python"
  }
 },
 "nbformat": 4,
 "nbformat_minor": 5
}
