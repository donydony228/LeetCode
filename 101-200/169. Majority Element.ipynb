{
 "cells": [
  {
   "cell_type": "code",
   "execution_count": null,
   "metadata": {},
   "outputs": [],
   "source": [
    "# 方法2：Boyer-Moore投票算法（最優解）\n",
    "def majorityElement2(self, nums: List[int]) -> int:\n",
    "    \"\"\"\n",
    "    使用Boyer-Moore投票算法找出主要元素\n",
    "    時間複雜度：O(n)\n",
    "    空間複雜度：O(1)\n",
    "    \n",
    "    核心思想：假設主要元素存在，其他元素會被抵消\n",
    "    \n",
    "    Args:\n",
    "        nums: 整數列表\n",
    "    Returns:\n",
    "        出現次數超過 ⌊n / 2⌋ 的元素\n",
    "    \"\"\"\n",
    "    candidate = None\n",
    "    count = 0\n",
    "    \n",
    "    for num in nums:\n",
    "        # 如果count歸零，選擇當前元素為候選\n",
    "        if count == 0:\n",
    "            candidate = num\n",
    "        \n",
    "        # 如果當前元素等於候選，count增加；否則減少\n",
    "        count += 1 if num == candidate else -1\n",
    "    \n",
    "    return candidate"
   ]
  }
 ],
 "metadata": {
  "language_info": {
   "name": "python"
  }
 },
 "nbformat": 4,
 "nbformat_minor": 2
}
