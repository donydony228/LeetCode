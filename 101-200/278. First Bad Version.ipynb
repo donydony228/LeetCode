{
 "cells": [
  {
   "cell_type": "code",
   "execution_count": null,
   "id": "1464f629",
   "metadata": {},
   "outputs": [],
   "source": [
    "# The isBadVersion API is already defined for you.\n",
    "# def isBadVersion(version: int) -> bool:\n",
    "\n",
    "class Solution:\n",
    "    def firstBadVersion(self, n: int) -> int:\n",
    "        \n",
    "        left, right = 1, n\n",
    "        while left < right:\n",
    "            mid = left + (right-left)//2\n",
    "            \n",
    "            if isBadVersion(mid):\n",
    "                right = mid\n",
    "            else:\n",
    "                left = mid + 1\n",
    "            \n",
    "        return left"
   ]
  }
 ],
 "metadata": {
  "language_info": {
   "name": "python"
  }
 },
 "nbformat": 4,
 "nbformat_minor": 5
}
