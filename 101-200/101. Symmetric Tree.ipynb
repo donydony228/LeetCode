{
 "cells": [
  {
   "cell_type": "code",
   "execution_count": null,
   "id": "07efb19f",
   "metadata": {},
   "outputs": [],
   "source": [
    "# Definition for a binary tree node.\n",
    "# class TreeNode:\n",
    "#     def __init__(self, val=0, left=None, right=None):\n",
    "#         self.val = val\n",
    "#         self.left = left\n",
    "#         self.right = right\n",
    "class Solution:\n",
    "    def isSymmetric(self, root: Optional[TreeNode]) -> bool:\n",
    "        if not root:\n",
    "            return True\n",
    "\n",
    "        def isMirror(left: Optional[TreeNode], right: Optional[TreeNode]) -> bool:\n",
    "            # 如果兩個節點都是None，則相同\n",
    "            if not left and not right:\n",
    "                return True\n",
    "            \n",
    "            # 如果其中一個是None，另一個不是，則不同\n",
    "            if not left or not right:\n",
    "                return False\n",
    "\n",
    "            return (left.val == right.val) and (isMirror(left.right, right.left)) and (isMirror(left.left, right.right))\n",
    "\n",
    "        return isMirror(root.left, root.right)"
   ]
  }
 ],
 "metadata": {
  "language_info": {
   "name": "python"
  }
 },
 "nbformat": 4,
 "nbformat_minor": 5
}
