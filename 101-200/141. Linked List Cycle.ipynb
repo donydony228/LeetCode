{
 "cells": [
  {
   "cell_type": "code",
   "execution_count": null,
   "metadata": {},
   "outputs": [],
   "source": [
    "# Definition for singly-linked list.\n",
    "# class ListNode:\n",
    "#     def __init__(self, x):\n",
    "#         self.val = x\n",
    "#         self.next = None\n",
    "\n",
    "class Solution:\n",
    "    def hasCycle(self, head: Optional[ListNode]) -> bool:\n",
    "        # 處理空鏈結串列或只有一個節點的情況\n",
    "        if not head or not head.next:\n",
    "            return False\n",
    "        \n",
    "        # 初始化快慢指標\n",
    "        slow = head\n",
    "        fast = head\n",
    "        \n",
    "        # 遍歷鏈結串列\n",
    "        while fast and fast.next:\n",
    "            # 慢指標每次移動一步\n",
    "            slow = slow.next\n",
    "            # 快指標每次移動兩步\n",
    "            fast = fast.next.next\n",
    "            \n",
    "            # 如果快慢指標相遇，代表有環\n",
    "            if slow == fast:\n",
    "                return True\n",
    "        \n",
    "        # 如果快指標到達了鏈結串列尾端，代表沒有環\n",
    "        return False"
   ]
  }
 ],
 "metadata": {
  "language_info": {
   "name": "python"
  }
 },
 "nbformat": 4,
 "nbformat_minor": 2
}
