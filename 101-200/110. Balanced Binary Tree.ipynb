{
 "cells": [
  {
   "cell_type": "code",
   "execution_count": null,
   "id": "ac048340",
   "metadata": {},
   "outputs": [],
   "source": [
    "# Definition for a binary tree node.\n",
    "# class TreeNode:\n",
    "#     def __init__(self, val=0, left=None, right=None):\n",
    "#         self.val = val\n",
    "#         self.left = left\n",
    "#         self.right = right\n",
    "class Solution:\n",
    "    def isBalanced(self, root: Optional[TreeNode]) -> bool:\n",
    "        # 如果樹為空，則視為平衡\n",
    "        if not root:\n",
    "            return True\n",
    "        \n",
    "        # 檢查樹是否平衡的輔助函數\n",
    "        def height(node):\n",
    "            # 基本情況：如果節點為空，深度為0\n",
    "            if not node:\n",
    "                return 0\n",
    "            \n",
    "            # 遞迴計算左子樹和右子樹的高度\n",
    "            left_height = height(node.left)\n",
    "            right_height = height(node.right)\n",
    "            \n",
    "            # 如果左子樹或右子樹不平衡（返回-1），或者高度差大於1，則整棵樹不平衡\n",
    "            if left_height == -1 or right_height == -1 or abs(left_height - right_height) > 1:\n",
    "                return -1\n",
    "            \n",
    "            # 返回當前子樹的高度（左右子樹較高者加1）\n",
    "            return max(left_height, right_height) + 1\n",
    "        \n",
    "        # 如果height函數返回-1，表示樹不平衡\n",
    "        return height(root) != -1"
   ]
  }
 ],
 "metadata": {
  "language_info": {
   "name": "python"
  }
 },
 "nbformat": 4,
 "nbformat_minor": 5
}
