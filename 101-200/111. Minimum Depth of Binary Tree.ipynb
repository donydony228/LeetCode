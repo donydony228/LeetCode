{
 "cells": [
  {
   "cell_type": "code",
   "execution_count": null,
   "id": "b8915146",
   "metadata": {},
   "outputs": [],
   "source": [
    "# Definition for a binary tree node.\n",
    "# class TreeNode:\n",
    "#     def __init__(self, val=0, left=None, right=None):\n",
    "#         self.val = val\n",
    "#         self.left = left\n",
    "#         self.right = right\n",
    "class Solution:\n",
    "    def minDepth(self, root: Optional[TreeNode]) -> int:\n",
    "        # 如果樹是空的，深度為0\n",
    "        if not root:\n",
    "            return 0\n",
    "        \n",
    "        # 如果是葉節點（左右子樹都為空），返回1\n",
    "        if not root.left and not root.right:\n",
    "            return 1\n",
    "            \n",
    "        # 如果左子樹為空，只考慮右子樹\n",
    "        if not root.left:\n",
    "            return self.minDepth(root.right) + 1\n",
    "            \n",
    "        # 如果右子樹為空，只考慮左子樹\n",
    "        if not root.right:\n",
    "            return self.minDepth(root.left) + 1\n",
    "        \n",
    "        # 左右子樹都不為空，取較小值\n",
    "        return min(self.minDepth(root.left), self.minDepth(root.right)) + 1"
   ]
  }
 ],
 "metadata": {
  "language_info": {
   "name": "python"
  }
 },
 "nbformat": 4,
 "nbformat_minor": 5
}
