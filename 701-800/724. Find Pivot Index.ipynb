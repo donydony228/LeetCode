{
 "cells": [
  {
   "cell_type": "code",
   "execution_count": null,
   "id": "4fd8abce",
   "metadata": {},
   "outputs": [],
   "source": [
    "class Solution:\n",
    "    def pivotIndex(self, nums: List[int]) -> int:\n",
    "        for i in range(len(nums)):\n",
    "            sumLeft = sum(nums[:i])\n",
    "            sumRight = sum(nums[i+1:])\n",
    "            # print(i, sumLeft, sumRight)\n",
    "\n",
    "            if sumRight == sumLeft:\n",
    "                return i\n",
    "        return -1"
   ]
  },
  {
   "cell_type": "code",
   "execution_count": null,
   "id": "5b6e3333",
   "metadata": {},
   "outputs": [],
   "source": []
  }
 ],
 "metadata": {
  "language_info": {
   "name": "python"
  }
 },
 "nbformat": 4,
 "nbformat_minor": 5
}
