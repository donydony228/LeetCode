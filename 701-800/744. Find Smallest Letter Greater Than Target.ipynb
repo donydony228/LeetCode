{
 "cells": [
  {
   "cell_type": "code",
   "execution_count": null,
   "id": "1ceadf8f",
   "metadata": {},
   "outputs": [],
   "source": [
    "class Solution(object):\n",
    "    def nextGreatestLetter(self, letters, target):\n",
    "        \"\"\"\n",
    "        :type letters: List[str]\n",
    "        :type target: str\n",
    "        :rtype: str\n",
    "        \"\"\"\n",
    "        \n",
    "        # if the number is out of bound\n",
    "        if target >= letters[-1] or target < letters[0]:\n",
    "            return letters[0]\n",
    "        \n",
    "        low = 0\n",
    "        high = len(letters)-1\n",
    "        while low <= high:\n",
    "            mid = (high+low)//2\n",
    "            \n",
    "            if  target >= letters[mid]: # in binary search this would be only greater than\n",
    "                low = mid+1\n",
    "            \n",
    "            if target < letters[mid]:\n",
    "                high = mid-1\n",
    "                \n",
    "        return letters[low]"
   ]
  }
 ],
 "metadata": {
  "language_info": {
   "name": "python"
  }
 },
 "nbformat": 4,
 "nbformat_minor": 5
}
