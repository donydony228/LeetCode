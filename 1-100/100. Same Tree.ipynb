{
 "cells": [
  {
   "cell_type": "code",
   "execution_count": null,
   "id": "b89748b5",
   "metadata": {},
   "outputs": [],
   "source": [
    "# Definition for a binary tree node.\n",
    "# class TreeNode:\n",
    "#     def __init__(self, val=0, left=None, right=None):\n",
    "#         self.val = val\n",
    "#         self.left = left\n",
    "#         self.right = right\n",
    "class Solution:\n",
    "    def isSameTree(self, p: Optional[TreeNode], q: Optional[TreeNode]) -> bool:\n",
    "        # 如果兩個節點都是None，則相同\n",
    "        if not p and not q:\n",
    "            return True\n",
    "        \n",
    "        # 如果其中一個是None，另一個不是，則不同\n",
    "        if not p or not q:\n",
    "            return False\n",
    "        \n",
    "        # 比較當前節點的值是否相同，並遞迴檢查左右子樹\n",
    "        return (p.val == q.val) and self.isSameTree(p.left, q.left) and self.isSameTree(p.right, q.right)"
   ]
  }
 ],
 "metadata": {
  "language_info": {
   "name": "python"
  }
 },
 "nbformat": 4,
 "nbformat_minor": 5
}
