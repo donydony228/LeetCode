{
 "cells": [
  {
   "cell_type": "code",
   "execution_count": null,
   "metadata": {},
   "outputs": [],
   "source": [
    "class Solution:\n",
    "    def isValid(self, s: str) -> bool:\n",
    "        \"\"\"\n",
    "        判斷字串中的括號是否有效匹配\n",
    "        \n",
    "        有效的括號匹配規則:\n",
    "        1. 左括號必須用相同類型的右括號閉合\n",
    "        2. 左括號必須以正確的順序閉合\n",
    "        \n",
    "        參數:\n",
    "            s: 僅包含 '(', ')', '{', '}', '[', ']' 的字串\n",
    "            \n",
    "        返回:\n",
    "            如果字串中的括號有效匹配，則返回 True，否則返回 False\n",
    "        \"\"\"\n",
    "        # 建立一個空堆疊用於追蹤左括號\n",
    "        stack = []\n",
    "        \n",
    "        # 定義括號對應關係\n",
    "        brackets_map = {\n",
    "            ')': '(',\n",
    "            '}': '{',\n",
    "            ']': '['\n",
    "        }\n",
    "        \n",
    "        # 遍歷字串中的每個字符\n",
    "        for char in s:\n",
    "            # 如果是右括號\n",
    "            if char in brackets_map:\n",
    "                # 從堆疊中彈出頂端元素，如果堆疊為空則預設為 '#'\n",
    "                top_element = stack.pop() if stack else '#'\n",
    "                \n",
    "                # 檢查彈出的元素是否與當前右括號對應\n",
    "                if top_element != brackets_map[char]:\n",
    "                    return False\n",
    "            # 如果是左括號，將其推入堆疊\n",
    "            else:\n",
    "                stack.append(char)\n",
    "        \n",
    "        # 最後檢查堆疊是否為空，如果為空則所有括號都已匹配\n",
    "        return len(stack) == 0"
   ]
  }
 ],
 "metadata": {
  "language_info": {
   "name": "python"
  }
 },
 "nbformat": 4,
 "nbformat_minor": 2
}
