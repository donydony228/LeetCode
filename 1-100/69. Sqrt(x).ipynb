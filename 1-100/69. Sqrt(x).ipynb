{
 "cells": [
  {
   "cell_type": "code",
   "execution_count": null,
   "id": "9d4691c0",
   "metadata": {},
   "outputs": [],
   "source": [
    "class Solution:\n",
    "    def mySqrt(self, x: int) -> int:\n",
    "        if x == 1:\n",
    "            return 1\n",
    "        elif x == 0:\n",
    "            return 0\n",
    "        \n",
    "        sqrt = x // 100000\n",
    "\n",
    "        while sqrt ** 2 <= x:\n",
    "            sqrt += 1\n",
    "        \n",
    "        return sqrt - 1"
   ]
  },
  {
   "cell_type": "code",
   "execution_count": null,
   "id": "2393781a",
   "metadata": {},
   "outputs": [],
   "source": [
    "class Solution:\n",
    "    def mySqrt(self, x: int) -> int:\n",
    "        if x == 0:\n",
    "            return 0\n",
    "        \n",
    "        left, right = 1, x\n",
    "        \n",
    "        while left <= right:\n",
    "            mid = left + (right - left) // 2\n",
    "            \n",
    "            # 檢查 mid 是否為平方根\n",
    "            if mid <= x // mid and (mid + 1) > x // (mid + 1):\n",
    "                return mid\n",
    "            \n",
    "            # 調整搜索範圍\n",
    "            if mid <= x // mid:\n",
    "                left = mid + 1\n",
    "            else:\n",
    "                right = mid - 1\n",
    "                \n",
    "        return right"
   ]
  }
 ],
 "metadata": {
  "language_info": {
   "name": "python"
  }
 },
 "nbformat": 4,
 "nbformat_minor": 5
}
