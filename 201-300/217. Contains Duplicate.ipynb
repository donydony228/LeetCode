{
 "cells": [
  {
   "cell_type": "code",
   "execution_count": null,
   "metadata": {},
   "outputs": [],
   "source": [
    "# 我的寫法\n",
    "class Solution:\n",
    "    def containsDuplicate(self, nums: List[int]) -> bool:\n",
    "        count = {}\n",
    "        \n",
    "        for num in nums:\n",
    "            count[num] = count.get(num, 0) + 1\n",
    "        \n",
    "        for num, times in count.items():\n",
    "            if times > 1:\n",
    "                return True\n",
    "\n",
    "        return False"
   ]
  },
  {
   "cell_type": "code",
   "execution_count": null,
   "metadata": {},
   "outputs": [],
   "source": [
    " # 方法3：排序後檢查相鄰元素\n",
    "    def containsDuplicate3(self, nums: List[int]) -> bool:\n",
    "        \"\"\"\n",
    "        排序後檢查是否有相鄰相同的元素\n",
    "        時間複雜度：O(n log n)\n",
    "        空間複雜度：O(1)或O(n)（取決於排序算法）\n",
    "        \n",
    "        Args:\n",
    "            nums: 整數列表\n",
    "        Returns:\n",
    "            是否存在重複元素\n",
    "        \"\"\"\n",
    "        nums.sort()\n",
    "        for i in range(1, len(nums)):\n",
    "            if nums[i] == nums[i-1]:\n",
    "                return True\n",
    "        return False"
   ]
  }
 ],
 "metadata": {
  "language_info": {
   "name": "python"
  }
 },
 "nbformat": 4,
 "nbformat_minor": 2
}
