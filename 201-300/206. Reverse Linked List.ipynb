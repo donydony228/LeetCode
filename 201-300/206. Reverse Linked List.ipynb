{
 "cells": [
  {
   "cell_type": "code",
   "execution_count": null,
   "metadata": {},
   "outputs": [],
   "source": [
    "# Definition for singly-linked list.\n",
    "# class ListNode:\n",
    "#     def __init__(self, val=0, next=None):\n",
    "#         self.val = val\n",
    "        # self.next = next\n",
    "class Solution:\n",
    "    def reverseList(self, head: Optional[ListNode]) -> Optional[ListNode]:\n",
    "        # 处理空链表或只有一个节点的情况\n",
    "        if not head or not head.next:\n",
    "            return head\n",
    "        \n",
    "        # 三个指针：前一个、当前、下一个\n",
    "        prev = None\n",
    "        current = head\n",
    "        \n",
    "        while current:\n",
    "            # 保存下一个节点\n",
    "            next_node = current.next\n",
    "            # 反转当前节点的指向\n",
    "            current.next = prev\n",
    "            # 移动指针\n",
    "            prev = current\n",
    "            current = next_node\n",
    "        \n",
    "        # 最后prev会成为新的头节点\n",
    "        return prev    "
   ]
  },
  {
   "cell_type": "code",
   "execution_count": null,
   "metadata": {},
   "outputs": [],
   "source": []
  }
 ],
 "metadata": {
  "language_info": {
   "name": "python"
  }
 },
 "nbformat": 4,
 "nbformat_minor": 2
}
