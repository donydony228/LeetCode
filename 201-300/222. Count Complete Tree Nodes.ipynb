{
 "cells": [
  {
   "cell_type": "code",
   "execution_count": null,
   "id": "07ab6bca",
   "metadata": {},
   "outputs": [],
   "source": [
    "# Definition for a binary tree node.\n",
    "# class TreeNode:\n",
    "#     def __init__(self, val=0, left=None, right=None):\n",
    "#         self.val = val\n",
    "#         self.left = left\n",
    "#         self.right = right\n",
    "class Solution:\n",
    "    def countNodes(self, root: Optional[TreeNode]) -> int:\n",
    "        if not root:\n",
    "            return 0\n",
    "\n",
    "        left = 0\n",
    "        node = root\n",
    "        while node:\n",
    "            left += 1\n",
    "            node = node.left\n",
    "        \n",
    "        right = 0\n",
    "        node = root\n",
    "        while node:\n",
    "            right += 1\n",
    "            node = node.right\n",
    "        \n",
    "        if left == right:\n",
    "            return 2**(left) - 1\n",
    "        \n",
    "        return 1 + self.countNodes(root.left) + self.countNodes(root.right)"
   ]
  }
 ],
 "metadata": {
  "language_info": {
   "name": "python"
  }
 },
 "nbformat": 4,
 "nbformat_minor": 5
}
