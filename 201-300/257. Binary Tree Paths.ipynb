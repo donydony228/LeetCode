{
 "cells": [
  {
   "cell_type": "code",
   "execution_count": null,
   "id": "916bb02d",
   "metadata": {},
   "outputs": [],
   "source": [
    "# Definition for a binary tree node.\n",
    "# class TreeNode:\n",
    "#     def __init__(self, val=0, left=None, right=None):\n",
    "#         self.val = val\n",
    "#         self.left = left\n",
    "#         self.right = right\n",
    "class Solution:\n",
    "    def binaryTreePaths(self, root: Optional[TreeNode]) -> List[str]:\n",
    "        if not root:\n",
    "            return []\n",
    "        \n",
    "        result = []\n",
    "        \n",
    "        def dfs(node, path):\n",
    "            # 將當前節點加入路徑\n",
    "            if path:\n",
    "                path += \"->\" + str(node.val)\n",
    "            else:\n",
    "                path = str(node.val)\n",
    "            \n",
    "            # 如果是葉節點，將完整路徑加入結果\n",
    "            if not node.left and not node.right:\n",
    "                result.append(path)\n",
    "                return\n",
    "            \n",
    "            # 遞迴處理左子樹和右子樹\n",
    "            if node.left:\n",
    "                dfs(node.left, path)\n",
    "            if node.right:\n",
    "                dfs(node.right, path)\n",
    "        \n",
    "        dfs(root, \"\")\n",
    "        return result"
   ]
  }
 ],
 "metadata": {
  "language_info": {
   "name": "python"
  }
 },
 "nbformat": 4,
 "nbformat_minor": 5
}
