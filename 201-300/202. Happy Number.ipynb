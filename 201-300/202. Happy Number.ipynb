{
 "cells": [
  {
   "cell_type": "code",
   "execution_count": null,
   "id": "d78a8c8c",
   "metadata": {},
   "outputs": [],
   "source": [
    "class Solution:\n",
    "    def isHappy(self, n: int) -> bool:\n",
    "        \"\"\"\n",
    "        使用 Set 檢測循環的快樂數解法\n",
    "        \n",
    "        核心思路：\n",
    "        1. 不斷計算各位數字的平方和\n",
    "        2. 如果遇到 1，返回 True\n",
    "        3. 如果遇到之前見過的數字（循環），返回 False\n",
    "        \"\"\"\n",
    "        seen = set()\n",
    "        \n",
    "        while n != 1 and n not in seen:\n",
    "            seen.add(n)\n",
    "            n = self.getSumOfSquares(n)\n",
    "        \n",
    "        return n == 1\n",
    "    \n",
    "    def getSumOfSquares(self, n: int) -> int:\n",
    "        \"\"\"計算一個數字各位數字的平方和\"\"\"\n",
    "        total = 0\n",
    "        while n > 0:\n",
    "            digit = n % 10\n",
    "            total += digit * digit\n",
    "            n //= 10\n",
    "        return total"
   ]
  }
 ],
 "metadata": {
  "language_info": {
   "name": "python"
  }
 },
 "nbformat": 4,
 "nbformat_minor": 5
}
