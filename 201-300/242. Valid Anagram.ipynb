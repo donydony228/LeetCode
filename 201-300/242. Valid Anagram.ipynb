{
 "cells": [
  {
   "cell_type": "code",
   "execution_count": null,
   "metadata": {},
   "outputs": [],
   "source": [
    "class Solution:\n",
    "    def isAnagram(self, s: str, t: str) -> bool:\n",
    "        # 長度不同直接返回False\n",
    "        if len(s) != len(t):\n",
    "            return False\n",
    "        \n",
    "        # 將字符串排序後比較\n",
    "        return sorted(s) == sorted(t)"
   ]
  }
 ],
 "metadata": {
  "language_info": {
   "name": "python"
  }
 },
 "nbformat": 4,
 "nbformat_minor": 2
}
