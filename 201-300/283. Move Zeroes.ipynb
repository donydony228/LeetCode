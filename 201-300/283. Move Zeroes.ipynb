{
 "cells": [
  {
   "cell_type": "code",
   "execution_count": null,
   "metadata": {},
   "outputs": [],
   "source": [
    "class Solution:\n",
    "    def moveZeroes(self, nums: List[int]) -> None:\n",
    "        \"\"\"\n",
    "        Do not return anything, modify nums in-place instead.\n",
    "        \"\"\"\n",
    "        slow = 0\n",
    "\n",
    "        for fast in range(len(nums)):\n",
    "            if nums[fast] !=0:\n",
    "                if slow != fast:\n",
    "                    nums[slow], nums[fast] = nums[fast], nums[slow]\n",
    "                slow +=1"
   ]
  }
 ],
 "metadata": {
  "language_info": {
   "name": "python"
  }
 },
 "nbformat": 4,
 "nbformat_minor": 2
}
