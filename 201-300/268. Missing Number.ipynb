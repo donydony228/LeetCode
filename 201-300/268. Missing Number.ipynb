{
 "cells": [
  {
   "cell_type": "code",
   "execution_count": null,
   "metadata": {},
   "outputs": [],
   "source": [
    "class Solution:\n",
    "    def missingNumber(self, nums: List[int]) -> int:\n",
    " \n",
    "        nums = sorted(nums)\n",
    "        if nums[0] != 0:\n",
    "            return 0\n",
    "        elif nums[-1] != len(nums):\n",
    "            return len(nums)\n",
    "        for i in range(len(nums)-1):\n",
    "            if nums[i] != nums[i+1] -1:\n",
    "                return nums[i] + 1"
   ]
  },
  {
   "cell_type": "code",
   "execution_count": null,
   "metadata": {},
   "outputs": [],
   "source": [
    "# 數學解法\n",
    "def missingNumber(self, nums: List[int]) -> int:\n",
    "    n = len(nums)\n",
    "    expected_sum = n * (n + 1) // 2  # 0 到 n 的和\n",
    "    actual_sum = sum(nums)\n",
    "    return expected_sum - actual_sum"
   ]
  }
 ],
 "metadata": {
  "language_info": {
   "name": "python"
  }
 },
 "nbformat": 4,
 "nbformat_minor": 2
}
