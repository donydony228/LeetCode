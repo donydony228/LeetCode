{
 "cells": [
  {
   "cell_type": "code",
   "execution_count": null,
   "id": "bf711a4d",
   "metadata": {},
   "outputs": [],
   "source": [
    "class Solution:\n",
    "    def arrangeCoins(self, n: int) -> int:\n",
    "        \n",
    "        left, right = 1, n\n",
    "\n",
    "        while left <= right:\n",
    "            mid = left + (right - left) // 2\n",
    "\n",
    "            if (1+mid)*mid / 2 == n or ((1+mid)*mid / 2 < n and (1+mid)*(2+mid) / 2 > n):\n",
    "                return mid\n",
    "            elif (1+mid)*mid / 2 < n:\n",
    "                left = mid + 1\n",
    "            else:\n",
    "                right = mid - 1"
   ]
  },
  {
   "cell_type": "code",
   "execution_count": null,
   "id": "279727e2",
   "metadata": {},
   "outputs": [],
   "source": [
    "class Solution:\n",
    "    def arrangeCoins(self, n: int) -> int:\n",
    "        left, right = 1, n\n",
    "        \n",
    "        while left <= right:\n",
    "            mid = left + (right - left) // 2\n",
    "            \n",
    "            # 計算前 mid 行需要的硬幣總數\n",
    "            coins_needed = (mid * (mid + 1)) // 2\n",
    "            \n",
    "            if coins_needed == n:\n",
    "                return mid\n",
    "            elif coins_needed < n:\n",
    "                left = mid + 1\n",
    "            else:\n",
    "                right = mid - 1\n",
    "                \n",
    "        # 當循環結束時，right 是最後一個可以完整排列的行數\n",
    "        return right"
   ]
  }
 ],
 "metadata": {
  "language_info": {
   "name": "python"
  }
 },
 "nbformat": 4,
 "nbformat_minor": 5
}
