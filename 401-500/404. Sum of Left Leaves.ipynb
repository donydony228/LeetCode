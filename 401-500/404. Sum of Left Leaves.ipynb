{
 "cells": [
  {
   "cell_type": "code",
   "execution_count": null,
   "id": "646235f0",
   "metadata": {},
   "outputs": [],
   "source": [
    "class Solution:\n",
    "    def sumOfLeftLeaves(self, root: Optional[TreeNode]) -> int:\n",
    "        if not root:\n",
    "            return 0\n",
    "        \n",
    "        self.sum_leaf = 0  # 使用類的成員變數\n",
    "        \n",
    "        def getleft(node, is_left=False):\n",
    "            if not node:\n",
    "                return\n",
    "            \n",
    "            # 如果是葉子節點且是左子節點\n",
    "            if not node.left and not node.right and is_left:\n",
    "                self.sum_leaf += node.val\n",
    "            \n",
    "            # 遞迴處理左子樹和右子樹\n",
    "            if node.left:\n",
    "                getleft(node.left, True)  # 左子節點標記為 True\n",
    "            if node.right:\n",
    "                getleft(node.right, False)  # 右子節點標記為 False\n",
    "        \n",
    "        getleft(root, False)  # 根節點不是任何節點的左子節點\n",
    "        return self.sum_leaf"
   ]
  }
 ],
 "metadata": {
  "language_info": {
   "name": "python"
  }
 },
 "nbformat": 4,
 "nbformat_minor": 5
}
