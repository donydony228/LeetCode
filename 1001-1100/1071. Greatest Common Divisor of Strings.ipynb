{
 "cells": [
  {
   "cell_type": "code",
   "execution_count": null,
   "metadata": {},
   "outputs": [],
   "source": [
    "def method2(str1, str2):\n",
    "            # 如果字符串拼接顺序不同，则不存在公共除数\n",
    "            if str1 + str2 != str2 + str1:\n",
    "                return \"\"\n",
    "            \n",
    "            # 使用辗转相除法求最大公约数\n",
    "            def gcd(a, b):\n",
    "                while b:\n",
    "                    a, b = b, a % b\n",
    "                return a\n",
    "            \n",
    "            # 返回长度为最大公约数的前缀子串\n",
    "            length = gcd(len(str1), len(str2))\n",
    "            return str1[:length]"
   ]
  }
 ],
 "metadata": {
  "kernelspec": {
   "display_name": "Python 3",
   "language": "python",
   "name": "python3"
  },
  "language_info": {
   "codemirror_mode": {
    "name": "ipython",
    "version": 3
   },
   "file_extension": ".py",
   "mimetype": "text/x-python",
   "name": "python",
   "nbconvert_exporter": "python",
   "pygments_lexer": "ipython3",
   "version": "3.10.11"
  }
 },
 "nbformat": 4,
 "nbformat_minor": 2
}
